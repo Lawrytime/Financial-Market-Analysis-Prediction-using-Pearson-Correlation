{
 "cells": [
  {
   "cell_type": "markdown",
   "id": "840e89aa-e366-44db-a57b-c7b79611edd8",
   "metadata": {},
   "source": [
    "# CRYPTO DATA"
   ]
  },
  {
   "cell_type": "code",
   "execution_count": 815,
   "id": "71a569cc-18bf-422f-b405-734448762461",
   "metadata": {},
   "outputs": [],
   "source": [
    "import pandas as pd\n",
    "import numpy as np\n",
    "import pandas_datareader as web     #Library to import crypto data\n",
    "import yfinance as yf               #Library to import crypto data\n",
    "import matplotlib.pyplot as plt\n",
    "from pandas.plotting import lag_plot\n",
    "from datetime import datetime\n",
    "import plotly as plot\n",
    "from plotly import graph_objs as go\n",
    "\n",
    "import warnings\n",
    "warnings.filterwarnings('ignore')"
   ]
  },
  {
   "cell_type": "markdown",
   "id": "6f15ca17-462b-4360-9277-c4b26b86e3cd",
   "metadata": {},
   "source": [
    "##### Initializing parameters"
   ]
  },
  {
   "cell_type": "code",
   "execution_count": 816,
   "id": "80dd72e8-f681-48b2-99ff-9a38d2cf3937",
   "metadata": {},
   "outputs": [],
   "source": [
    "start = datetime(2021,1,1)\n",
    "end = datetime(2021,10,1)\n",
    "asset = 'BTC-USD'"
   ]
  },
  {
   "cell_type": "markdown",
   "id": "14207419-c7f5-4a3a-b9d2-2a32ed07c3f9",
   "metadata": {},
   "source": [
    "##### Main Data"
   ]
  },
  {
   "cell_type": "code",
   "execution_count": 817,
   "id": "ce060c2e-12a1-4965-a171-f96963f0b415",
   "metadata": {},
   "outputs": [],
   "source": [
    "data = web.DataReader(asset,'yahoo', start, end)\n",
    "data = data.reset_index()"
   ]
  },
  {
   "cell_type": "markdown",
   "id": "8ab2256c-a20c-42a4-9b3e-75c906724ac5",
   "metadata": {},
   "source": [
    "##### Control Data"
   ]
  },
  {
   "cell_type": "code",
   "execution_count": 818,
   "id": "a975de17-8036-43cc-b396-3b4d699bbf26",
   "metadata": {
    "tags": []
   },
   "outputs": [
    {
     "data": {
      "text/html": [
       "<div>\n",
       "<style scoped>\n",
       "    .dataframe tbody tr th:only-of-type {\n",
       "        vertical-align: middle;\n",
       "    }\n",
       "\n",
       "    .dataframe tbody tr th {\n",
       "        vertical-align: top;\n",
       "    }\n",
       "\n",
       "    .dataframe thead th {\n",
       "        text-align: right;\n",
       "    }\n",
       "</style>\n",
       "<table border=\"1\" class=\"dataframe\">\n",
       "  <thead>\n",
       "    <tr style=\"text-align: right;\">\n",
       "      <th></th>\n",
       "      <th>Date</th>\n",
       "      <th>High</th>\n",
       "      <th>Low</th>\n",
       "      <th>Open</th>\n",
       "      <th>Close</th>\n",
       "      <th>Volume</th>\n",
       "      <th>Adj Close</th>\n",
       "    </tr>\n",
       "  </thead>\n",
       "  <tbody>\n",
       "    <tr>\n",
       "      <th>0</th>\n",
       "      <td>2021-01-01</td>\n",
       "      <td>29600.626953</td>\n",
       "      <td>28803.585938</td>\n",
       "      <td>28994.009766</td>\n",
       "      <td>29374.152344</td>\n",
       "      <td>40730301359</td>\n",
       "      <td>29374.152344</td>\n",
       "    </tr>\n",
       "    <tr>\n",
       "      <th>1</th>\n",
       "      <td>2021-01-02</td>\n",
       "      <td>33155.117188</td>\n",
       "      <td>29091.181641</td>\n",
       "      <td>29376.455078</td>\n",
       "      <td>32127.267578</td>\n",
       "      <td>67865420765</td>\n",
       "      <td>32127.267578</td>\n",
       "    </tr>\n",
       "    <tr>\n",
       "      <th>2</th>\n",
       "      <td>2021-01-03</td>\n",
       "      <td>34608.558594</td>\n",
       "      <td>32052.316406</td>\n",
       "      <td>32129.408203</td>\n",
       "      <td>32782.023438</td>\n",
       "      <td>78665235202</td>\n",
       "      <td>32782.023438</td>\n",
       "    </tr>\n",
       "    <tr>\n",
       "      <th>3</th>\n",
       "      <td>2021-01-04</td>\n",
       "      <td>33440.218750</td>\n",
       "      <td>28722.755859</td>\n",
       "      <td>32810.949219</td>\n",
       "      <td>31971.914062</td>\n",
       "      <td>81163475344</td>\n",
       "      <td>31971.914062</td>\n",
       "    </tr>\n",
       "    <tr>\n",
       "      <th>4</th>\n",
       "      <td>2021-01-05</td>\n",
       "      <td>34437.589844</td>\n",
       "      <td>30221.187500</td>\n",
       "      <td>31977.041016</td>\n",
       "      <td>33992.429688</td>\n",
       "      <td>67547324782</td>\n",
       "      <td>33992.429688</td>\n",
       "    </tr>\n",
       "    <tr>\n",
       "      <th>...</th>\n",
       "      <td>...</td>\n",
       "      <td>...</td>\n",
       "      <td>...</td>\n",
       "      <td>...</td>\n",
       "      <td>...</td>\n",
       "      <td>...</td>\n",
       "      <td>...</td>\n",
       "    </tr>\n",
       "    <tr>\n",
       "      <th>277</th>\n",
       "      <td>2021-10-05</td>\n",
       "      <td>51839.984375</td>\n",
       "      <td>49072.839844</td>\n",
       "      <td>49174.960938</td>\n",
       "      <td>51514.812500</td>\n",
       "      <td>35873904236</td>\n",
       "      <td>51514.812500</td>\n",
       "    </tr>\n",
       "    <tr>\n",
       "      <th>278</th>\n",
       "      <td>2021-10-06</td>\n",
       "      <td>55568.464844</td>\n",
       "      <td>50488.191406</td>\n",
       "      <td>51486.664062</td>\n",
       "      <td>55361.449219</td>\n",
       "      <td>49034730168</td>\n",
       "      <td>55361.449219</td>\n",
       "    </tr>\n",
       "    <tr>\n",
       "      <th>279</th>\n",
       "      <td>2021-10-07</td>\n",
       "      <td>55338.625000</td>\n",
       "      <td>53525.468750</td>\n",
       "      <td>55338.625000</td>\n",
       "      <td>53805.984375</td>\n",
       "      <td>36807860413</td>\n",
       "      <td>53805.984375</td>\n",
       "    </tr>\n",
       "    <tr>\n",
       "      <th>280</th>\n",
       "      <td>2021-10-08</td>\n",
       "      <td>55922.980469</td>\n",
       "      <td>53688.054688</td>\n",
       "      <td>53802.144531</td>\n",
       "      <td>53967.847656</td>\n",
       "      <td>34800873924</td>\n",
       "      <td>53967.847656</td>\n",
       "    </tr>\n",
       "    <tr>\n",
       "      <th>281</th>\n",
       "      <td>2021-10-09</td>\n",
       "      <td>55397.945312</td>\n",
       "      <td>53735.144531</td>\n",
       "      <td>53929.781250</td>\n",
       "      <td>54968.222656</td>\n",
       "      <td>32491211414</td>\n",
       "      <td>54968.222656</td>\n",
       "    </tr>\n",
       "  </tbody>\n",
       "</table>\n",
       "<p>282 rows × 7 columns</p>\n",
       "</div>"
      ],
      "text/plain": [
       "          Date          High           Low          Open         Close  \\\n",
       "0   2021-01-01  29600.626953  28803.585938  28994.009766  29374.152344   \n",
       "1   2021-01-02  33155.117188  29091.181641  29376.455078  32127.267578   \n",
       "2   2021-01-03  34608.558594  32052.316406  32129.408203  32782.023438   \n",
       "3   2021-01-04  33440.218750  28722.755859  32810.949219  31971.914062   \n",
       "4   2021-01-05  34437.589844  30221.187500  31977.041016  33992.429688   \n",
       "..         ...           ...           ...           ...           ...   \n",
       "277 2021-10-05  51839.984375  49072.839844  49174.960938  51514.812500   \n",
       "278 2021-10-06  55568.464844  50488.191406  51486.664062  55361.449219   \n",
       "279 2021-10-07  55338.625000  53525.468750  55338.625000  53805.984375   \n",
       "280 2021-10-08  55922.980469  53688.054688  53802.144531  53967.847656   \n",
       "281 2021-10-09  55397.945312  53735.144531  53929.781250  54968.222656   \n",
       "\n",
       "          Volume     Adj Close  \n",
       "0    40730301359  29374.152344  \n",
       "1    67865420765  32127.267578  \n",
       "2    78665235202  32782.023438  \n",
       "3    81163475344  31971.914062  \n",
       "4    67547324782  33992.429688  \n",
       "..           ...           ...  \n",
       "277  35873904236  51514.812500  \n",
       "278  49034730168  55361.449219  \n",
       "279  36807860413  53805.984375  \n",
       "280  34800873924  53967.847656  \n",
       "281  32491211414  54968.222656  \n",
       "\n",
       "[282 rows x 7 columns]"
      ]
     },
     "execution_count": 818,
     "metadata": {},
     "output_type": "execute_result"
    }
   ],
   "source": [
    "data2 = web.DataReader(asset,'yahoo', start, end= '2021-10-08')\n",
    "data2 = data2.reset_index()\n",
    "data2"
   ]
  },
  {
   "cell_type": "markdown",
   "id": "3eca8ca3-58d2-4bad-b825-0ebe06991c4a",
   "metadata": {},
   "source": [
    "### Exploratory Data Analysis"
   ]
  },
  {
   "cell_type": "code",
   "execution_count": 819,
   "id": "fe67805b-41da-443d-b097-86468de58533",
   "metadata": {},
   "outputs": [
    {
     "data": {
      "text/plain": [
       "(275, 7)"
      ]
     },
     "execution_count": 819,
     "metadata": {},
     "output_type": "execute_result"
    }
   ],
   "source": [
    "data.shape"
   ]
  },
  {
   "cell_type": "code",
   "execution_count": 820,
   "id": "cef806da-8c2f-47bd-8d57-c528c2fdd8e0",
   "metadata": {
    "tags": []
   },
   "outputs": [
    {
     "data": {
      "text/html": [
       "<div>\n",
       "<style scoped>\n",
       "    .dataframe tbody tr th:only-of-type {\n",
       "        vertical-align: middle;\n",
       "    }\n",
       "\n",
       "    .dataframe tbody tr th {\n",
       "        vertical-align: top;\n",
       "    }\n",
       "\n",
       "    .dataframe thead th {\n",
       "        text-align: right;\n",
       "    }\n",
       "</style>\n",
       "<table border=\"1\" class=\"dataframe\">\n",
       "  <thead>\n",
       "    <tr style=\"text-align: right;\">\n",
       "      <th></th>\n",
       "      <th>Date</th>\n",
       "      <th>High</th>\n",
       "      <th>Low</th>\n",
       "      <th>Open</th>\n",
       "      <th>Close</th>\n",
       "      <th>Volume</th>\n",
       "      <th>Adj Close</th>\n",
       "    </tr>\n",
       "  </thead>\n",
       "  <tbody>\n",
       "    <tr>\n",
       "      <th>265</th>\n",
       "      <td>2021-09-23</td>\n",
       "      <td>44942.175781</td>\n",
       "      <td>43109.339844</td>\n",
       "      <td>43560.296875</td>\n",
       "      <td>44895.097656</td>\n",
       "      <td>34244064430</td>\n",
       "      <td>44895.097656</td>\n",
       "    </tr>\n",
       "    <tr>\n",
       "      <th>266</th>\n",
       "      <td>2021-09-24</td>\n",
       "      <td>45080.492188</td>\n",
       "      <td>40936.558594</td>\n",
       "      <td>44894.300781</td>\n",
       "      <td>42839.750000</td>\n",
       "      <td>42839345714</td>\n",
       "      <td>42839.750000</td>\n",
       "    </tr>\n",
       "    <tr>\n",
       "      <th>267</th>\n",
       "      <td>2021-09-25</td>\n",
       "      <td>42996.257812</td>\n",
       "      <td>41759.921875</td>\n",
       "      <td>42840.890625</td>\n",
       "      <td>42716.593750</td>\n",
       "      <td>31604717236</td>\n",
       "      <td>42716.593750</td>\n",
       "    </tr>\n",
       "    <tr>\n",
       "      <th>268</th>\n",
       "      <td>2021-09-26</td>\n",
       "      <td>43919.300781</td>\n",
       "      <td>40848.460938</td>\n",
       "      <td>42721.628906</td>\n",
       "      <td>43208.539062</td>\n",
       "      <td>30661222077</td>\n",
       "      <td>43208.539062</td>\n",
       "    </tr>\n",
       "    <tr>\n",
       "      <th>269</th>\n",
       "      <td>2021-09-27</td>\n",
       "      <td>44313.246094</td>\n",
       "      <td>42190.632812</td>\n",
       "      <td>43234.183594</td>\n",
       "      <td>42235.730469</td>\n",
       "      <td>30980029059</td>\n",
       "      <td>42235.730469</td>\n",
       "    </tr>\n",
       "    <tr>\n",
       "      <th>270</th>\n",
       "      <td>2021-09-28</td>\n",
       "      <td>42775.144531</td>\n",
       "      <td>40931.664062</td>\n",
       "      <td>42200.898438</td>\n",
       "      <td>41034.542969</td>\n",
       "      <td>30214940550</td>\n",
       "      <td>41034.542969</td>\n",
       "    </tr>\n",
       "    <tr>\n",
       "      <th>271</th>\n",
       "      <td>2021-09-29</td>\n",
       "      <td>42545.257812</td>\n",
       "      <td>40829.667969</td>\n",
       "      <td>41064.984375</td>\n",
       "      <td>41564.363281</td>\n",
       "      <td>30602359905</td>\n",
       "      <td>41564.363281</td>\n",
       "    </tr>\n",
       "    <tr>\n",
       "      <th>272</th>\n",
       "      <td>2021-09-30</td>\n",
       "      <td>44092.601562</td>\n",
       "      <td>41444.582031</td>\n",
       "      <td>41551.269531</td>\n",
       "      <td>43790.894531</td>\n",
       "      <td>31141681925</td>\n",
       "      <td>43790.894531</td>\n",
       "    </tr>\n",
       "    <tr>\n",
       "      <th>273</th>\n",
       "      <td>2021-10-01</td>\n",
       "      <td>48436.011719</td>\n",
       "      <td>43320.023438</td>\n",
       "      <td>43816.742188</td>\n",
       "      <td>48116.941406</td>\n",
       "      <td>42850641582</td>\n",
       "      <td>48116.941406</td>\n",
       "    </tr>\n",
       "    <tr>\n",
       "      <th>274</th>\n",
       "      <td>2021-10-02</td>\n",
       "      <td>48282.062500</td>\n",
       "      <td>47465.496094</td>\n",
       "      <td>48137.468750</td>\n",
       "      <td>47711.488281</td>\n",
       "      <td>30614346492</td>\n",
       "      <td>47711.488281</td>\n",
       "    </tr>\n",
       "  </tbody>\n",
       "</table>\n",
       "</div>"
      ],
      "text/plain": [
       "          Date          High           Low          Open         Close  \\\n",
       "265 2021-09-23  44942.175781  43109.339844  43560.296875  44895.097656   \n",
       "266 2021-09-24  45080.492188  40936.558594  44894.300781  42839.750000   \n",
       "267 2021-09-25  42996.257812  41759.921875  42840.890625  42716.593750   \n",
       "268 2021-09-26  43919.300781  40848.460938  42721.628906  43208.539062   \n",
       "269 2021-09-27  44313.246094  42190.632812  43234.183594  42235.730469   \n",
       "270 2021-09-28  42775.144531  40931.664062  42200.898438  41034.542969   \n",
       "271 2021-09-29  42545.257812  40829.667969  41064.984375  41564.363281   \n",
       "272 2021-09-30  44092.601562  41444.582031  41551.269531  43790.894531   \n",
       "273 2021-10-01  48436.011719  43320.023438  43816.742188  48116.941406   \n",
       "274 2021-10-02  48282.062500  47465.496094  48137.468750  47711.488281   \n",
       "\n",
       "          Volume     Adj Close  \n",
       "265  34244064430  44895.097656  \n",
       "266  42839345714  42839.750000  \n",
       "267  31604717236  42716.593750  \n",
       "268  30661222077  43208.539062  \n",
       "269  30980029059  42235.730469  \n",
       "270  30214940550  41034.542969  \n",
       "271  30602359905  41564.363281  \n",
       "272  31141681925  43790.894531  \n",
       "273  42850641582  48116.941406  \n",
       "274  30614346492  47711.488281  "
      ]
     },
     "execution_count": 820,
     "metadata": {},
     "output_type": "execute_result"
    }
   ],
   "source": [
    "data.tail(10)"
   ]
  },
  {
   "cell_type": "code",
   "execution_count": 821,
   "id": "e0a35722-3933-47a2-9d9d-b72f86f870f2",
   "metadata": {},
   "outputs": [],
   "source": [
    "close = data['Close'].values"
   ]
  },
  {
   "cell_type": "code",
   "execution_count": 822,
   "id": "45a5d7b6-b710-403c-9e7e-3235d384cc25",
   "metadata": {},
   "outputs": [],
   "source": [
    "#close"
   ]
  },
  {
   "cell_type": "code",
   "execution_count": 823,
   "id": "322788fd-d0bd-4235-b135-6ad829ba9603",
   "metadata": {},
   "outputs": [],
   "source": [
    "close = list(close)"
   ]
  },
  {
   "cell_type": "markdown",
   "id": "e527a1f9-96fc-45a8-b997-2c81e43edb58",
   "metadata": {},
   "source": [
    "#### Creating a List of consecutive 7-day values from the 'Close' Column of the Data"
   ]
  },
  {
   "cell_type": "code",
   "execution_count": 824,
   "id": "62226950-4524-4d04-a438-e079f0144dd9",
   "metadata": {},
   "outputs": [],
   "source": [
    "n = 7\n",
    "close_n = [close[i:i+n] for i in range(0, len(close)+1-2*n)]\n",
    "    \n",
    "last_n = close[-n:]\n",
    "\n",
    "\n",
    "# close_n = close values from first index to +7 of it. The +1 was to make it not slice the last index\n",
    "# -2 x n was to remove the last 7 and also since i'm adding i+n initially it has to be 2 times."
   ]
  },
  {
   "cell_type": "code",
   "execution_count": 825,
   "id": "0d3f8fe7-7918-44a9-bfa9-2335bd14f708",
   "metadata": {},
   "outputs": [
    {
     "data": {
      "text/plain": [
       "[43208.5390625,\n",
       " 42235.73046875,\n",
       " 41034.54296875,\n",
       " 41564.36328125,\n",
       " 43790.89453125,\n",
       " 48116.94140625,\n",
       " 47711.48828125]"
      ]
     },
     "execution_count": 825,
     "metadata": {},
     "output_type": "execute_result"
    }
   ],
   "source": [
    "last_n   #Last 7 Values"
   ]
  },
  {
   "cell_type": "markdown",
   "id": "2dc5873f-fa1d-4020-aba4-57971eae5090",
   "metadata": {},
   "source": [
    "#### Dictionary to keep track of the values"
   ]
  },
  {
   "cell_type": "code",
   "execution_count": 826,
   "id": "07d0bf7c-7300-4bc4-a44f-2f0549eab818",
   "metadata": {},
   "outputs": [],
   "source": [
    "Close = {}\n",
    "\n",
    "for i in close_n:\n",
    "    Close[(close_n.index(i))] = i\n"
   ]
  },
  {
   "cell_type": "code",
   "execution_count": 827,
   "id": "68091f60-4f3f-4b91-ad07-e8c24276bec1",
   "metadata": {},
   "outputs": [
    {
     "data": {
      "text/plain": [
       "[43208.5390625,\n",
       " 42235.73046875,\n",
       " 41034.54296875,\n",
       " 41564.36328125,\n",
       " 43790.89453125,\n",
       " 48116.94140625,\n",
       " 47711.48828125]"
      ]
     },
     "execution_count": 827,
     "metadata": {},
     "output_type": "execute_result"
    }
   ],
   "source": [
    "last_n"
   ]
  },
  {
   "cell_type": "markdown",
   "id": "7ebe0481-eb48-4fd7-a8c0-71c69ad182f5",
   "metadata": {},
   "source": [
    "### Pearson's Correlation"
   ]
  },
  {
   "cell_type": "code",
   "execution_count": 828,
   "id": "c8bc7ad2-a51c-47cf-b02e-3006a4eb851d",
   "metadata": {},
   "outputs": [],
   "source": [
    "from scipy.stats import pearsonr"
   ]
  },
  {
   "cell_type": "code",
   "execution_count": 829,
   "id": "ffd0eb2b-c357-4122-9a3e-eed49bf07d63",
   "metadata": {},
   "outputs": [],
   "source": [
    "vals = {}\n",
    "for i in close_n:\n",
    "    vals[(close_n.index(i))] = pearsonr(i,last_n)[0]"
   ]
  },
  {
   "cell_type": "code",
   "execution_count": 830,
   "id": "4ee90f65-cfd9-4a1e-8746-deca831e4a77",
   "metadata": {
    "tags": []
   },
   "outputs": [],
   "source": [
    "#vals"
   ]
  },
  {
   "cell_type": "code",
   "execution_count": 831,
   "id": "d7b5b960-5188-4b83-a46c-59838cf6e218",
   "metadata": {},
   "outputs": [],
   "source": [
    "#vals.values()"
   ]
  },
  {
   "cell_type": "code",
   "execution_count": 832,
   "id": "1959d58a-54bc-47f8-8434-2d7f67747d5d",
   "metadata": {},
   "outputs": [],
   "source": [
    "values = vals.values()\n",
    "max_value = max(values)\n",
    "key_of_max_value = max(vals, key=vals.get)"
   ]
  },
  {
   "cell_type": "code",
   "execution_count": 833,
   "id": "c274a409-2282-4d11-9683-ce1d86ae71ac",
   "metadata": {},
   "outputs": [],
   "source": [
    "# x = 0.95\n",
    "# high = [{key: value} for key, value in vals.items() if value > x] #Returns Correlations greater than 'x'\n",
    "# high"
   ]
  },
  {
   "cell_type": "code",
   "execution_count": 834,
   "id": "9125a388-60b7-4833-bc01-a1743d76bc7c",
   "metadata": {},
   "outputs": [
    {
     "data": {
      "text/plain": [
       "28"
      ]
     },
     "execution_count": 834,
     "metadata": {},
     "output_type": "execute_result"
    }
   ],
   "source": [
    "key_of_max_value"
   ]
  },
  {
   "cell_type": "markdown",
   "id": "7ac25dcd-f307-4c00-ac94-bed8c8a6ef22",
   "metadata": {},
   "source": [
    "#### List containing Close Prices with high Correlation to our current (selected) session."
   ]
  },
  {
   "cell_type": "code",
   "execution_count": 835,
   "id": "19284064-48a1-42b1-a8ba-fce5e9154235",
   "metadata": {},
   "outputs": [
    {
     "data": {
      "text/plain": [
       "[34316.38671875,\n",
       " 34269.5234375,\n",
       " 33114.359375,\n",
       " 33537.17578125,\n",
       " 35510.2890625,\n",
       " 37472.08984375,\n",
       " 36926.06640625]"
      ]
     },
     "execution_count": 835,
     "metadata": {},
     "output_type": "execute_result"
    }
   ],
   "source": [
    "close_n[key_of_max_value]"
   ]
  },
  {
   "cell_type": "code",
   "execution_count": 836,
   "id": "be7736f6-53e4-46a0-9c0c-fc31964ffba3",
   "metadata": {},
   "outputs": [
    {
     "data": {
      "text/plain": [
       "0.9818165803951855"
      ]
     },
     "execution_count": 836,
     "metadata": {},
     "output_type": "execute_result"
    }
   ],
   "source": [
    "max_value"
   ]
  },
  {
   "cell_type": "code",
   "execution_count": 837,
   "id": "7b337073-e1b2-49fe-8098-37535a2eb48c",
   "metadata": {},
   "outputs": [
    {
     "data": {
      "text/plain": [
       "[34316.38671875,\n",
       " 34269.5234375,\n",
       " 33114.359375,\n",
       " 33537.17578125,\n",
       " 35510.2890625,\n",
       " 37472.08984375,\n",
       " 36926.06640625]"
      ]
     },
     "execution_count": 837,
     "metadata": {},
     "output_type": "execute_result"
    }
   ],
   "source": [
    "Close[key_of_max_value]"
   ]
  },
  {
   "cell_type": "markdown",
   "id": "a617d207-cac5-4a40-b28d-8af23900134f",
   "metadata": {},
   "source": [
    "#### Current (selected) session."
   ]
  },
  {
   "cell_type": "code",
   "execution_count": 838,
   "id": "43ef25e0-a5fe-4411-accb-60295f6ac9f1",
   "metadata": {},
   "outputs": [
    {
     "data": {
      "text/plain": [
       "[43208.5390625,\n",
       " 42235.73046875,\n",
       " 41034.54296875,\n",
       " 41564.36328125,\n",
       " 43790.89453125,\n",
       " 48116.94140625,\n",
       " 47711.48828125]"
      ]
     },
     "execution_count": 838,
     "metadata": {},
     "output_type": "execute_result"
    }
   ],
   "source": [
    "last_n"
   ]
  },
  {
   "cell_type": "markdown",
   "id": "811e6a6d-e9b6-4016-9a4e-9914dc1a8f7f",
   "metadata": {},
   "source": [
    "## Values"
   ]
  },
  {
   "cell_type": "code",
   "execution_count": 839,
   "id": "ca93bbac-6a95-4776-891a-94eeb72b3434",
   "metadata": {},
   "outputs": [],
   "source": [
    "past_7 = Close[key_of_max_value]   #Portion of Data (in the past) with highest Correlation with current (selected) price.  \n",
    "past_result = Close[key_of_max_value+n] #The immediate Price Action after \"past_7\".\n",
    "\n",
    "current_7 = last_n #Current Price we are considering\n",
    "prediction = [] #Expected Price Action\n"
   ]
  },
  {
   "cell_type": "code",
   "execution_count": 840,
   "id": "6d768b0b-022e-4534-ab88-ef5f97e3a1c6",
   "metadata": {},
   "outputs": [
    {
     "data": {
      "text/plain": [
       "[34316.38671875,\n",
       " 34269.5234375,\n",
       " 33114.359375,\n",
       " 33537.17578125,\n",
       " 35510.2890625,\n",
       " 37472.08984375,\n",
       " 36926.06640625]"
      ]
     },
     "execution_count": 840,
     "metadata": {},
     "output_type": "execute_result"
    }
   ],
   "source": [
    "past_7"
   ]
  },
  {
   "cell_type": "code",
   "execution_count": 841,
   "id": "ae8e49f5-9e3b-426c-a316-06456f0fd101",
   "metadata": {},
   "outputs": [
    {
     "data": {
      "text/plain": [
       "[38144.30859375,\n",
       " 39266.01171875,\n",
       " 38903.44140625,\n",
       " 46196.46484375,\n",
       " 46481.10546875,\n",
       " 44918.18359375,\n",
       " 47909.33203125]"
      ]
     },
     "execution_count": 841,
     "metadata": {},
     "output_type": "execute_result"
    }
   ],
   "source": [
    "past_result"
   ]
  },
  {
   "cell_type": "code",
   "execution_count": 842,
   "id": "57af0784-7572-4588-a5c5-fe8c18f9b29c",
   "metadata": {},
   "outputs": [
    {
     "data": {
      "text/plain": [
       "[43208.5390625,\n",
       " 42235.73046875,\n",
       " 41034.54296875,\n",
       " 41564.36328125,\n",
       " 43790.89453125,\n",
       " 48116.94140625,\n",
       " 47711.48828125]"
      ]
     },
     "execution_count": 842,
     "metadata": {},
     "output_type": "execute_result"
    }
   ],
   "source": [
    "current_7"
   ]
  },
  {
   "cell_type": "code",
   "execution_count": null,
   "id": "99bc4b03-8446-4015-b105-070ce640cadc",
   "metadata": {},
   "outputs": [],
   "source": []
  },
  {
   "cell_type": "markdown",
   "id": "7013e32a-aff3-4314-bdff-d358b90ce1d5",
   "metadata": {},
   "source": [
    "#### Prediction Generation\n",
    "To generate the prediction, we used scaling factors of the relationship between the past data and result."
   ]
  },
  {
   "cell_type": "code",
   "execution_count": 843,
   "id": "4c631927-338d-435d-828f-2a24f6360784",
   "metadata": {},
   "outputs": [],
   "source": [
    "last = past_7[-1]"
   ]
  },
  {
   "cell_type": "code",
   "execution_count": 844,
   "id": "58e083f5-b4dd-4197-9d08-dc227621dc4f",
   "metadata": {},
   "outputs": [],
   "source": [
    "scale = []"
   ]
  },
  {
   "cell_type": "code",
   "execution_count": 845,
   "id": "01233c72-9446-4614-9c81-76769a3b62d8",
   "metadata": {},
   "outputs": [],
   "source": [
    "for i in past_result:\n",
    "    scale.append(i/last)"
   ]
  },
  {
   "cell_type": "code",
   "execution_count": 846,
   "id": "01ad0733-1e23-42e9-ab2e-8c89e1aa94fd",
   "metadata": {},
   "outputs": [
    {
     "data": {
      "text/plain": [
       "[1.0329913880914703,\n",
       " 1.0633683882479275,\n",
       " 1.053549570599952,\n",
       " 1.2510529644698607,\n",
       " 1.258761357285615,\n",
       " 1.21643565007908,\n",
       " 1.2974393617821423]"
      ]
     },
     "execution_count": 846,
     "metadata": {},
     "output_type": "execute_result"
    }
   ],
   "source": [
    "scale"
   ]
  },
  {
   "cell_type": "code",
   "execution_count": 847,
   "id": "46480385-67eb-4547-9485-cd9bba8ba912",
   "metadata": {},
   "outputs": [],
   "source": [
    "last_value = current_7[-1]"
   ]
  },
  {
   "cell_type": "code",
   "execution_count": 848,
   "id": "72074d01-aedf-4f78-bdd5-6650c9eef435",
   "metadata": {},
   "outputs": [
    {
     "data": {
      "text/plain": [
       "47711.48828125"
      ]
     },
     "execution_count": 848,
     "metadata": {},
     "output_type": "execute_result"
    }
   ],
   "source": [
    "last_value"
   ]
  },
  {
   "cell_type": "code",
   "execution_count": 849,
   "id": "0abb81ac-71c0-4961-8dfc-3bd98690d8d4",
   "metadata": {},
   "outputs": [
    {
     "data": {
      "text/plain": [
       "[]"
      ]
     },
     "execution_count": 849,
     "metadata": {},
     "output_type": "execute_result"
    }
   ],
   "source": [
    "prediction"
   ]
  },
  {
   "cell_type": "code",
   "execution_count": 850,
   "id": "0a994819-da23-4cb1-93d0-f4afa2a00bae",
   "metadata": {},
   "outputs": [],
   "source": [
    "for i in scale:\n",
    "    prediction.append(last_value*i)"
   ]
  },
  {
   "cell_type": "code",
   "execution_count": 851,
   "id": "aa24ddfe-214e-4607-8111-acebc3bdf7e9",
   "metadata": {},
   "outputs": [
    {
     "data": {
      "text/plain": [
       "[38144.30859375,\n",
       " 39266.01171875,\n",
       " 38903.44140625,\n",
       " 46196.46484375,\n",
       " 46481.10546875,\n",
       " 44918.18359375,\n",
       " 47909.33203125]"
      ]
     },
     "execution_count": 851,
     "metadata": {},
     "output_type": "execute_result"
    }
   ],
   "source": [
    "past_result"
   ]
  },
  {
   "cell_type": "code",
   "execution_count": 852,
   "id": "e2bd3fc9-e2c8-4f6e-87b7-de8e6c676b66",
   "metadata": {},
   "outputs": [
    {
     "data": {
      "text/plain": [
       "[49285.55650755836,\n",
       " 50734.88839454269,\n",
       " 50266.41799139558,\n",
       " 59689.59885352683,\n",
       " 60057.37774702296,\n",
       " 58037.955263642754,\n",
       " 61902.76290530116]"
      ]
     },
     "execution_count": 852,
     "metadata": {},
     "output_type": "execute_result"
    }
   ],
   "source": [
    "prediction"
   ]
  },
  {
   "cell_type": "code",
   "execution_count": 853,
   "id": "8bb40698-4fa3-4d6c-97fe-1cbf46206702",
   "metadata": {},
   "outputs": [
    {
     "data": {
      "text/html": [
       "<div>\n",
       "<style scoped>\n",
       "    .dataframe tbody tr th:only-of-type {\n",
       "        vertical-align: middle;\n",
       "    }\n",
       "\n",
       "    .dataframe tbody tr th {\n",
       "        vertical-align: top;\n",
       "    }\n",
       "\n",
       "    .dataframe thead th {\n",
       "        text-align: right;\n",
       "    }\n",
       "</style>\n",
       "<table border=\"1\" class=\"dataframe\">\n",
       "  <thead>\n",
       "    <tr style=\"text-align: right;\">\n",
       "      <th></th>\n",
       "      <th>Date</th>\n",
       "      <th>High</th>\n",
       "      <th>Low</th>\n",
       "      <th>Open</th>\n",
       "      <th>Close</th>\n",
       "      <th>Volume</th>\n",
       "      <th>Adj Close</th>\n",
       "    </tr>\n",
       "  </thead>\n",
       "  <tbody>\n",
       "    <tr>\n",
       "      <th>265</th>\n",
       "      <td>2021-09-23</td>\n",
       "      <td>44942.175781</td>\n",
       "      <td>43109.339844</td>\n",
       "      <td>43560.296875</td>\n",
       "      <td>44895.097656</td>\n",
       "      <td>34244064430</td>\n",
       "      <td>44895.097656</td>\n",
       "    </tr>\n",
       "    <tr>\n",
       "      <th>266</th>\n",
       "      <td>2021-09-24</td>\n",
       "      <td>45080.492188</td>\n",
       "      <td>40936.558594</td>\n",
       "      <td>44894.300781</td>\n",
       "      <td>42839.750000</td>\n",
       "      <td>42839345714</td>\n",
       "      <td>42839.750000</td>\n",
       "    </tr>\n",
       "    <tr>\n",
       "      <th>267</th>\n",
       "      <td>2021-09-25</td>\n",
       "      <td>42996.257812</td>\n",
       "      <td>41759.921875</td>\n",
       "      <td>42840.890625</td>\n",
       "      <td>42716.593750</td>\n",
       "      <td>31604717236</td>\n",
       "      <td>42716.593750</td>\n",
       "    </tr>\n",
       "    <tr>\n",
       "      <th>268</th>\n",
       "      <td>2021-09-26</td>\n",
       "      <td>43919.300781</td>\n",
       "      <td>40848.460938</td>\n",
       "      <td>42721.628906</td>\n",
       "      <td>43208.539062</td>\n",
       "      <td>30661222077</td>\n",
       "      <td>43208.539062</td>\n",
       "    </tr>\n",
       "    <tr>\n",
       "      <th>269</th>\n",
       "      <td>2021-09-27</td>\n",
       "      <td>44313.246094</td>\n",
       "      <td>42190.632812</td>\n",
       "      <td>43234.183594</td>\n",
       "      <td>42235.730469</td>\n",
       "      <td>30980029059</td>\n",
       "      <td>42235.730469</td>\n",
       "    </tr>\n",
       "    <tr>\n",
       "      <th>270</th>\n",
       "      <td>2021-09-28</td>\n",
       "      <td>42775.144531</td>\n",
       "      <td>40931.664062</td>\n",
       "      <td>42200.898438</td>\n",
       "      <td>41034.542969</td>\n",
       "      <td>30214940550</td>\n",
       "      <td>41034.542969</td>\n",
       "    </tr>\n",
       "    <tr>\n",
       "      <th>271</th>\n",
       "      <td>2021-09-29</td>\n",
       "      <td>42545.257812</td>\n",
       "      <td>40829.667969</td>\n",
       "      <td>41064.984375</td>\n",
       "      <td>41564.363281</td>\n",
       "      <td>30602359905</td>\n",
       "      <td>41564.363281</td>\n",
       "    </tr>\n",
       "    <tr>\n",
       "      <th>272</th>\n",
       "      <td>2021-09-30</td>\n",
       "      <td>44092.601562</td>\n",
       "      <td>41444.582031</td>\n",
       "      <td>41551.269531</td>\n",
       "      <td>43790.894531</td>\n",
       "      <td>31141681925</td>\n",
       "      <td>43790.894531</td>\n",
       "    </tr>\n",
       "    <tr>\n",
       "      <th>273</th>\n",
       "      <td>2021-10-01</td>\n",
       "      <td>48436.011719</td>\n",
       "      <td>43320.023438</td>\n",
       "      <td>43816.742188</td>\n",
       "      <td>48116.941406</td>\n",
       "      <td>42850641582</td>\n",
       "      <td>48116.941406</td>\n",
       "    </tr>\n",
       "    <tr>\n",
       "      <th>274</th>\n",
       "      <td>2021-10-02</td>\n",
       "      <td>48282.062500</td>\n",
       "      <td>47465.496094</td>\n",
       "      <td>48137.468750</td>\n",
       "      <td>47711.488281</td>\n",
       "      <td>30614346492</td>\n",
       "      <td>47711.488281</td>\n",
       "    </tr>\n",
       "  </tbody>\n",
       "</table>\n",
       "</div>"
      ],
      "text/plain": [
       "          Date          High           Low          Open         Close  \\\n",
       "265 2021-09-23  44942.175781  43109.339844  43560.296875  44895.097656   \n",
       "266 2021-09-24  45080.492188  40936.558594  44894.300781  42839.750000   \n",
       "267 2021-09-25  42996.257812  41759.921875  42840.890625  42716.593750   \n",
       "268 2021-09-26  43919.300781  40848.460938  42721.628906  43208.539062   \n",
       "269 2021-09-27  44313.246094  42190.632812  43234.183594  42235.730469   \n",
       "270 2021-09-28  42775.144531  40931.664062  42200.898438  41034.542969   \n",
       "271 2021-09-29  42545.257812  40829.667969  41064.984375  41564.363281   \n",
       "272 2021-09-30  44092.601562  41444.582031  41551.269531  43790.894531   \n",
       "273 2021-10-01  48436.011719  43320.023438  43816.742188  48116.941406   \n",
       "274 2021-10-02  48282.062500  47465.496094  48137.468750  47711.488281   \n",
       "\n",
       "          Volume     Adj Close  \n",
       "265  34244064430  44895.097656  \n",
       "266  42839345714  42839.750000  \n",
       "267  31604717236  42716.593750  \n",
       "268  30661222077  43208.539062  \n",
       "269  30980029059  42235.730469  \n",
       "270  30214940550  41034.542969  \n",
       "271  30602359905  41564.363281  \n",
       "272  31141681925  43790.894531  \n",
       "273  42850641582  48116.941406  \n",
       "274  30614346492  47711.488281  "
      ]
     },
     "execution_count": 853,
     "metadata": {},
     "output_type": "execute_result"
    }
   ],
   "source": [
    "data.tail(10)"
   ]
  },
  {
   "cell_type": "code",
   "execution_count": 854,
   "id": "003c7ec2-3cf1-491e-a20d-8c8545459c50",
   "metadata": {},
   "outputs": [
    {
     "data": {
      "text/plain": [
       "[34316.38671875,\n",
       " 34269.5234375,\n",
       " 33114.359375,\n",
       " 33537.17578125,\n",
       " 35510.2890625,\n",
       " 37472.08984375,\n",
       " 36926.06640625]"
      ]
     },
     "execution_count": 854,
     "metadata": {},
     "output_type": "execute_result"
    }
   ],
   "source": [
    "past_7"
   ]
  },
  {
   "cell_type": "code",
   "execution_count": 855,
   "id": "40e5b57c-557f-41fd-969f-5999a0524d60",
   "metadata": {},
   "outputs": [
    {
     "data": {
      "text/plain": [
       "[43208.5390625,\n",
       " 42235.73046875,\n",
       " 41034.54296875,\n",
       " 41564.36328125,\n",
       " 43790.89453125,\n",
       " 48116.94140625,\n",
       " 47711.48828125]"
      ]
     },
     "execution_count": 855,
     "metadata": {},
     "output_type": "execute_result"
    }
   ],
   "source": [
    "current_7"
   ]
  },
  {
   "cell_type": "code",
   "execution_count": 856,
   "id": "1568388b-da50-43b0-a731-cbf3267178b0",
   "metadata": {},
   "outputs": [
    {
     "data": {
      "text/plain": [
       "28"
      ]
     },
     "execution_count": 856,
     "metadata": {},
     "output_type": "execute_result"
    }
   ],
   "source": [
    "key_of_max_value"
   ]
  },
  {
   "cell_type": "code",
   "execution_count": 857,
   "id": "f4dbd01b-d1cc-40b6-b58f-4233ee40fc2f",
   "metadata": {},
   "outputs": [
    {
     "data": {
      "text/html": [
       "<div>\n",
       "<style scoped>\n",
       "    .dataframe tbody tr th:only-of-type {\n",
       "        vertical-align: middle;\n",
       "    }\n",
       "\n",
       "    .dataframe tbody tr th {\n",
       "        vertical-align: top;\n",
       "    }\n",
       "\n",
       "    .dataframe thead th {\n",
       "        text-align: right;\n",
       "    }\n",
       "</style>\n",
       "<table border=\"1\" class=\"dataframe\">\n",
       "  <thead>\n",
       "    <tr style=\"text-align: right;\">\n",
       "      <th></th>\n",
       "      <th>Date</th>\n",
       "      <th>Close</th>\n",
       "    </tr>\n",
       "  </thead>\n",
       "  <tbody>\n",
       "    <tr>\n",
       "      <th>28</th>\n",
       "      <td>2021-01-29</td>\n",
       "      <td>34316.386719</td>\n",
       "    </tr>\n",
       "    <tr>\n",
       "      <th>29</th>\n",
       "      <td>2021-01-30</td>\n",
       "      <td>34269.523438</td>\n",
       "    </tr>\n",
       "    <tr>\n",
       "      <th>30</th>\n",
       "      <td>2021-01-31</td>\n",
       "      <td>33114.359375</td>\n",
       "    </tr>\n",
       "    <tr>\n",
       "      <th>31</th>\n",
       "      <td>2021-02-01</td>\n",
       "      <td>33537.175781</td>\n",
       "    </tr>\n",
       "    <tr>\n",
       "      <th>32</th>\n",
       "      <td>2021-02-02</td>\n",
       "      <td>35510.289062</td>\n",
       "    </tr>\n",
       "    <tr>\n",
       "      <th>33</th>\n",
       "      <td>2021-02-03</td>\n",
       "      <td>37472.089844</td>\n",
       "    </tr>\n",
       "    <tr>\n",
       "      <th>34</th>\n",
       "      <td>2021-02-04</td>\n",
       "      <td>36926.066406</td>\n",
       "    </tr>\n",
       "  </tbody>\n",
       "</table>\n",
       "</div>"
      ],
      "text/plain": [
       "         Date         Close\n",
       "28 2021-01-29  34316.386719\n",
       "29 2021-01-30  34269.523438\n",
       "30 2021-01-31  33114.359375\n",
       "31 2021-02-01  33537.175781\n",
       "32 2021-02-02  35510.289062\n",
       "33 2021-02-03  37472.089844\n",
       "34 2021-02-04  36926.066406"
      ]
     },
     "execution_count": 857,
     "metadata": {},
     "output_type": "execute_result"
    }
   ],
   "source": [
    "dat1 = data.iloc[key_of_max_value:key_of_max_value+7, [0,4]]\n",
    "dat1"
   ]
  },
  {
   "cell_type": "code",
   "execution_count": 858,
   "id": "ba4d75bb-87e7-4311-91af-d8a8dfa33d9c",
   "metadata": {},
   "outputs": [
    {
     "data": {
      "text/plain": [
       "[43208.5390625,\n",
       " 42235.73046875,\n",
       " 41034.54296875,\n",
       " 41564.36328125,\n",
       " 43790.89453125,\n",
       " 48116.94140625,\n",
       " 47711.48828125]"
      ]
     },
     "execution_count": 858,
     "metadata": {},
     "output_type": "execute_result"
    }
   ],
   "source": [
    "last_n"
   ]
  },
  {
   "cell_type": "code",
   "execution_count": 859,
   "id": "c216a267-b981-4b01-a704-7530a66f67b9",
   "metadata": {},
   "outputs": [
    {
     "data": {
      "text/plain": [
       "[43208.5390625,\n",
       " 42235.73046875,\n",
       " 41034.54296875,\n",
       " 41564.36328125,\n",
       " 43790.89453125,\n",
       " 48116.94140625,\n",
       " 47711.48828125]"
      ]
     },
     "execution_count": 859,
     "metadata": {},
     "output_type": "execute_result"
    }
   ],
   "source": [
    "current_7"
   ]
  },
  {
   "cell_type": "markdown",
   "id": "85c64067-ce1e-4b10-952d-4fa5f071c6d9",
   "metadata": {},
   "source": [
    "### Visualizing the Correlation"
   ]
  },
  {
   "cell_type": "code",
   "execution_count": 860,
   "id": "c8a6f38c-b4e1-4545-b652-7312dc05532e",
   "metadata": {},
   "outputs": [],
   "source": [
    "import seaborn as sns"
   ]
  },
  {
   "cell_type": "code",
   "execution_count": 861,
   "id": "95a62444-fa18-4811-83d6-f6713c7a4c55",
   "metadata": {},
   "outputs": [
    {
     "data": {
      "text/plain": [
       "<AxesSubplot:>"
      ]
     },
     "execution_count": 861,
     "metadata": {},
     "output_type": "execute_result"
    },
    {
     "data": {
      "image/png": "[encoded data removed]",
      "text/plain": [
       "<Figure size 432x288 with 2 Axes>"
      ]
     },
     "metadata": {
      "needs_background": "light"
     },
     "output_type": "display_data"
    }
   ],
   "source": [
    "sns.heatmap(pd.DataFrame((Close[key_of_max_value], current_7)).transpose().corr(), annot=True)"
   ]
  },
  {
   "cell_type": "code",
   "execution_count": 862,
   "id": "ff852fc4-c2bd-4493-b2a5-4f9024e73da8",
   "metadata": {},
   "outputs": [
    {
     "data": {
      "text/plain": [
       "[34316.38671875,\n",
       " 34269.5234375,\n",
       " 33114.359375,\n",
       " 33537.17578125,\n",
       " 35510.2890625,\n",
       " 37472.08984375,\n",
       " 36926.06640625]"
      ]
     },
     "execution_count": 862,
     "metadata": {},
     "output_type": "execute_result"
    }
   ],
   "source": [
    "past_7"
   ]
  },
  {
   "cell_type": "code",
   "execution_count": 863,
   "id": "24c7f158-4cbc-4b96-b760-95ea03f5fd2d",
   "metadata": {},
   "outputs": [
    {
     "data": {
      "text/html": [
       "<div>\n",
       "<style scoped>\n",
       "    .dataframe tbody tr th:only-of-type {\n",
       "        vertical-align: middle;\n",
       "    }\n",
       "\n",
       "    .dataframe tbody tr th {\n",
       "        vertical-align: top;\n",
       "    }\n",
       "\n",
       "    .dataframe thead th {\n",
       "        text-align: right;\n",
       "    }\n",
       "</style>\n",
       "<table border=\"1\" class=\"dataframe\">\n",
       "  <thead>\n",
       "    <tr style=\"text-align: right;\">\n",
       "      <th></th>\n",
       "      <th>Date</th>\n",
       "      <th>Close</th>\n",
       "    </tr>\n",
       "  </thead>\n",
       "  <tbody>\n",
       "    <tr>\n",
       "      <th>28</th>\n",
       "      <td>2021-01-29</td>\n",
       "      <td>34316.386719</td>\n",
       "    </tr>\n",
       "    <tr>\n",
       "      <th>29</th>\n",
       "      <td>2021-01-30</td>\n",
       "      <td>34269.523438</td>\n",
       "    </tr>\n",
       "    <tr>\n",
       "      <th>30</th>\n",
       "      <td>2021-01-31</td>\n",
       "      <td>33114.359375</td>\n",
       "    </tr>\n",
       "    <tr>\n",
       "      <th>31</th>\n",
       "      <td>2021-02-01</td>\n",
       "      <td>33537.175781</td>\n",
       "    </tr>\n",
       "    <tr>\n",
       "      <th>32</th>\n",
       "      <td>2021-02-02</td>\n",
       "      <td>35510.289062</td>\n",
       "    </tr>\n",
       "    <tr>\n",
       "      <th>33</th>\n",
       "      <td>2021-02-03</td>\n",
       "      <td>37472.089844</td>\n",
       "    </tr>\n",
       "    <tr>\n",
       "      <th>34</th>\n",
       "      <td>2021-02-04</td>\n",
       "      <td>36926.066406</td>\n",
       "    </tr>\n",
       "  </tbody>\n",
       "</table>\n",
       "</div>"
      ],
      "text/plain": [
       "         Date         Close\n",
       "28 2021-01-29  34316.386719\n",
       "29 2021-01-30  34269.523438\n",
       "30 2021-01-31  33114.359375\n",
       "31 2021-02-01  33537.175781\n",
       "32 2021-02-02  35510.289062\n",
       "33 2021-02-03  37472.089844\n",
       "34 2021-02-04  36926.066406"
      ]
     },
     "execution_count": 863,
     "metadata": {},
     "output_type": "execute_result"
    }
   ],
   "source": [
    "data_of_past_7 = data.iloc[key_of_max_value:key_of_max_value+n, [0,4]]\n",
    "data_of_past_7"
   ]
  },
  {
   "cell_type": "code",
   "execution_count": 864,
   "id": "fd1706b6-90bf-448d-9ec2-2db38e34731e",
   "metadata": {},
   "outputs": [
    {
     "data": {
      "text/plain": [
       "[38144.30859375,\n",
       " 39266.01171875,\n",
       " 38903.44140625,\n",
       " 46196.46484375,\n",
       " 46481.10546875,\n",
       " 44918.18359375,\n",
       " 47909.33203125]"
      ]
     },
     "execution_count": 864,
     "metadata": {},
     "output_type": "execute_result"
    }
   ],
   "source": [
    "past_result"
   ]
  },
  {
   "cell_type": "code",
   "execution_count": 865,
   "id": "3d988d95-763a-4eb1-a778-3425a457d5e3",
   "metadata": {},
   "outputs": [
    {
     "data": {
      "text/html": [
       "<div>\n",
       "<style scoped>\n",
       "    .dataframe tbody tr th:only-of-type {\n",
       "        vertical-align: middle;\n",
       "    }\n",
       "\n",
       "    .dataframe tbody tr th {\n",
       "        vertical-align: top;\n",
       "    }\n",
       "\n",
       "    .dataframe thead th {\n",
       "        text-align: right;\n",
       "    }\n",
       "</style>\n",
       "<table border=\"1\" class=\"dataframe\">\n",
       "  <thead>\n",
       "    <tr style=\"text-align: right;\">\n",
       "      <th></th>\n",
       "      <th>Date</th>\n",
       "      <th>Close</th>\n",
       "    </tr>\n",
       "  </thead>\n",
       "  <tbody>\n",
       "    <tr>\n",
       "      <th>34</th>\n",
       "      <td>2021-02-04</td>\n",
       "      <td>36926.066406</td>\n",
       "    </tr>\n",
       "    <tr>\n",
       "      <th>35</th>\n",
       "      <td>2021-02-05</td>\n",
       "      <td>38144.308594</td>\n",
       "    </tr>\n",
       "    <tr>\n",
       "      <th>36</th>\n",
       "      <td>2021-02-06</td>\n",
       "      <td>39266.011719</td>\n",
       "    </tr>\n",
       "    <tr>\n",
       "      <th>37</th>\n",
       "      <td>2021-02-07</td>\n",
       "      <td>38903.441406</td>\n",
       "    </tr>\n",
       "    <tr>\n",
       "      <th>38</th>\n",
       "      <td>2021-02-08</td>\n",
       "      <td>46196.464844</td>\n",
       "    </tr>\n",
       "    <tr>\n",
       "      <th>39</th>\n",
       "      <td>2021-02-09</td>\n",
       "      <td>46481.105469</td>\n",
       "    </tr>\n",
       "    <tr>\n",
       "      <th>40</th>\n",
       "      <td>2021-02-10</td>\n",
       "      <td>44918.183594</td>\n",
       "    </tr>\n",
       "    <tr>\n",
       "      <th>41</th>\n",
       "      <td>2021-02-11</td>\n",
       "      <td>47909.332031</td>\n",
       "    </tr>\n",
       "  </tbody>\n",
       "</table>\n",
       "</div>"
      ],
      "text/plain": [
       "         Date         Close\n",
       "34 2021-02-04  36926.066406\n",
       "35 2021-02-05  38144.308594\n",
       "36 2021-02-06  39266.011719\n",
       "37 2021-02-07  38903.441406\n",
       "38 2021-02-08  46196.464844\n",
       "39 2021-02-09  46481.105469\n",
       "40 2021-02-10  44918.183594\n",
       "41 2021-02-11  47909.332031"
      ]
     },
     "execution_count": 865,
     "metadata": {},
     "output_type": "execute_result"
    }
   ],
   "source": [
    "data_of_past_result = data.iloc[key_of_max_value+n-1:key_of_max_value+2*n, [0,4]]\n",
    "data_of_past_result"
   ]
  },
  {
   "cell_type": "code",
   "execution_count": 866,
   "id": "55a20784-14fd-4ad9-8320-f126fec6172c",
   "metadata": {},
   "outputs": [
    {
     "data": {
      "text/html": [
       "<div>\n",
       "<style scoped>\n",
       "    .dataframe tbody tr th:only-of-type {\n",
       "        vertical-align: middle;\n",
       "    }\n",
       "\n",
       "    .dataframe tbody tr th {\n",
       "        vertical-align: top;\n",
       "    }\n",
       "\n",
       "    .dataframe thead th {\n",
       "        text-align: right;\n",
       "    }\n",
       "</style>\n",
       "<table border=\"1\" class=\"dataframe\">\n",
       "  <thead>\n",
       "    <tr style=\"text-align: right;\">\n",
       "      <th></th>\n",
       "      <th>Date</th>\n",
       "      <th>Close</th>\n",
       "    </tr>\n",
       "  </thead>\n",
       "  <tbody>\n",
       "    <tr>\n",
       "      <th>268</th>\n",
       "      <td>2021-09-26</td>\n",
       "      <td>43208.539062</td>\n",
       "    </tr>\n",
       "    <tr>\n",
       "      <th>269</th>\n",
       "      <td>2021-09-27</td>\n",
       "      <td>42235.730469</td>\n",
       "    </tr>\n",
       "    <tr>\n",
       "      <th>270</th>\n",
       "      <td>2021-09-28</td>\n",
       "      <td>41034.542969</td>\n",
       "    </tr>\n",
       "    <tr>\n",
       "      <th>271</th>\n",
       "      <td>2021-09-29</td>\n",
       "      <td>41564.363281</td>\n",
       "    </tr>\n",
       "    <tr>\n",
       "      <th>272</th>\n",
       "      <td>2021-09-30</td>\n",
       "      <td>43790.894531</td>\n",
       "    </tr>\n",
       "    <tr>\n",
       "      <th>273</th>\n",
       "      <td>2021-10-01</td>\n",
       "      <td>48116.941406</td>\n",
       "    </tr>\n",
       "    <tr>\n",
       "      <th>274</th>\n",
       "      <td>2021-10-02</td>\n",
       "      <td>47711.488281</td>\n",
       "    </tr>\n",
       "  </tbody>\n",
       "</table>\n",
       "</div>"
      ],
      "text/plain": [
       "          Date         Close\n",
       "268 2021-09-26  43208.539062\n",
       "269 2021-09-27  42235.730469\n",
       "270 2021-09-28  41034.542969\n",
       "271 2021-09-29  41564.363281\n",
       "272 2021-09-30  43790.894531\n",
       "273 2021-10-01  48116.941406\n",
       "274 2021-10-02  47711.488281"
      ]
     },
     "execution_count": 866,
     "metadata": {},
     "output_type": "execute_result"
    }
   ],
   "source": [
    "current_7_data = data.iloc[-7:, [0,4]]\n",
    "current_7_data"
   ]
  },
  {
   "cell_type": "markdown",
   "id": "360c053f-545e-40d5-a36d-410591d66386",
   "metadata": {},
   "source": [
    "##### Creating a Custom DateTime for the Prediction"
   ]
  },
  {
   "cell_type": "code",
   "execution_count": 867,
   "id": "27bd6e52-13ae-4f9d-a503-48338877fbf3",
   "metadata": {},
   "outputs": [
    {
     "data": {
      "text/html": [
       "<div>\n",
       "<style scoped>\n",
       "    .dataframe tbody tr th:only-of-type {\n",
       "        vertical-align: middle;\n",
       "    }\n",
       "\n",
       "    .dataframe tbody tr th {\n",
       "        vertical-align: top;\n",
       "    }\n",
       "\n",
       "    .dataframe thead th {\n",
       "        text-align: right;\n",
       "    }\n",
       "</style>\n",
       "<table border=\"1\" class=\"dataframe\">\n",
       "  <thead>\n",
       "    <tr style=\"text-align: right;\">\n",
       "      <th></th>\n",
       "      <th>Date</th>\n",
       "    </tr>\n",
       "  </thead>\n",
       "  <tbody>\n",
       "    <tr>\n",
       "      <th>0</th>\n",
       "      <td>2021-10-03</td>\n",
       "    </tr>\n",
       "    <tr>\n",
       "      <th>1</th>\n",
       "      <td>2021-10-04</td>\n",
       "    </tr>\n",
       "    <tr>\n",
       "      <th>2</th>\n",
       "      <td>2021-10-05</td>\n",
       "    </tr>\n",
       "    <tr>\n",
       "      <th>3</th>\n",
       "      <td>2021-10-06</td>\n",
       "    </tr>\n",
       "    <tr>\n",
       "      <th>4</th>\n",
       "      <td>2021-10-07</td>\n",
       "    </tr>\n",
       "    <tr>\n",
       "      <th>5</th>\n",
       "      <td>2021-10-08</td>\n",
       "    </tr>\n",
       "    <tr>\n",
       "      <th>6</th>\n",
       "      <td>2021-10-09</td>\n",
       "    </tr>\n",
       "  </tbody>\n",
       "</table>\n",
       "</div>"
      ],
      "text/plain": [
       "        Date\n",
       "0 2021-10-03\n",
       "1 2021-10-04\n",
       "2 2021-10-05\n",
       "3 2021-10-06\n",
       "4 2021-10-07\n",
       "5 2021-10-08\n",
       "6 2021-10-09"
      ]
     },
     "execution_count": 867,
     "metadata": {},
     "output_type": "execute_result"
    }
   ],
   "source": [
    "pred_dates = ['2021-10-3', '2021-10-4', '2021-10-5', '2021-10-6', '2021-10-7', '2021-10-8', '2021-10-9']\n",
    "pred_dates = pd.to_datetime(pred_dates)\n",
    "predicted = pd.DataFrame(pred_dates, columns=['Date'])\n",
    "predicted"
   ]
  },
  {
   "cell_type": "code",
   "execution_count": 868,
   "id": "7e2ddc88-3874-4f26-8766-59f75bbe0170",
   "metadata": {},
   "outputs": [
    {
     "data": {
      "text/plain": [
       "[43208.5390625,\n",
       " 42235.73046875,\n",
       " 41034.54296875,\n",
       " 41564.36328125,\n",
       " 43790.89453125,\n",
       " 48116.94140625,\n",
       " 47711.48828125]"
      ]
     },
     "execution_count": 868,
     "metadata": {},
     "output_type": "execute_result"
    }
   ],
   "source": [
    "current_7"
   ]
  },
  {
   "cell_type": "code",
   "execution_count": 869,
   "id": "f85f970e-6518-4f1a-be7b-b5b9bad37af7",
   "metadata": {},
   "outputs": [
    {
     "data": {
      "text/html": [
       "<div>\n",
       "<style scoped>\n",
       "    .dataframe tbody tr th:only-of-type {\n",
       "        vertical-align: middle;\n",
       "    }\n",
       "\n",
       "    .dataframe tbody tr th {\n",
       "        vertical-align: top;\n",
       "    }\n",
       "\n",
       "    .dataframe thead th {\n",
       "        text-align: right;\n",
       "    }\n",
       "</style>\n",
       "<table border=\"1\" class=\"dataframe\">\n",
       "  <thead>\n",
       "    <tr style=\"text-align: right;\">\n",
       "      <th></th>\n",
       "      <th>Date</th>\n",
       "      <th>Close</th>\n",
       "    </tr>\n",
       "  </thead>\n",
       "  <tbody>\n",
       "    <tr>\n",
       "      <th>0</th>\n",
       "      <td>2021-10-03</td>\n",
       "      <td>49285.556508</td>\n",
       "    </tr>\n",
       "    <tr>\n",
       "      <th>1</th>\n",
       "      <td>2021-10-04</td>\n",
       "      <td>50734.888395</td>\n",
       "    </tr>\n",
       "    <tr>\n",
       "      <th>2</th>\n",
       "      <td>2021-10-05</td>\n",
       "      <td>50266.417991</td>\n",
       "    </tr>\n",
       "    <tr>\n",
       "      <th>3</th>\n",
       "      <td>2021-10-06</td>\n",
       "      <td>59689.598854</td>\n",
       "    </tr>\n",
       "    <tr>\n",
       "      <th>4</th>\n",
       "      <td>2021-10-07</td>\n",
       "      <td>60057.377747</td>\n",
       "    </tr>\n",
       "    <tr>\n",
       "      <th>5</th>\n",
       "      <td>2021-10-08</td>\n",
       "      <td>58037.955264</td>\n",
       "    </tr>\n",
       "    <tr>\n",
       "      <th>6</th>\n",
       "      <td>2021-10-09</td>\n",
       "      <td>61902.762905</td>\n",
       "    </tr>\n",
       "  </tbody>\n",
       "</table>\n",
       "</div>"
      ],
      "text/plain": [
       "        Date         Close\n",
       "0 2021-10-03  49285.556508\n",
       "1 2021-10-04  50734.888395\n",
       "2 2021-10-05  50266.417991\n",
       "3 2021-10-06  59689.598854\n",
       "4 2021-10-07  60057.377747\n",
       "5 2021-10-08  58037.955264\n",
       "6 2021-10-09  61902.762905"
      ]
     },
     "execution_count": 869,
     "metadata": {},
     "output_type": "execute_result"
    }
   ],
   "source": [
    "predicted['Close'] = prediction\n",
    "predicted"
   ]
  },
  {
   "cell_type": "markdown",
   "id": "d479e99d-3a12-4247-8f3b-2232ec9d72bb",
   "metadata": {},
   "source": [
    "##### Complete Data with needed Column (Close)"
   ]
  },
  {
   "cell_type": "code",
   "execution_count": 870,
   "id": "d2e09c90-256c-4881-be93-32e2ee056d70",
   "metadata": {},
   "outputs": [
    {
     "data": {
      "text/html": [
       "<div>\n",
       "<style scoped>\n",
       "    .dataframe tbody tr th:only-of-type {\n",
       "        vertical-align: middle;\n",
       "    }\n",
       "\n",
       "    .dataframe tbody tr th {\n",
       "        vertical-align: top;\n",
       "    }\n",
       "\n",
       "    .dataframe thead th {\n",
       "        text-align: right;\n",
       "    }\n",
       "</style>\n",
       "<table border=\"1\" class=\"dataframe\">\n",
       "  <thead>\n",
       "    <tr style=\"text-align: right;\">\n",
       "      <th></th>\n",
       "      <th>Date</th>\n",
       "      <th>High</th>\n",
       "      <th>Low</th>\n",
       "      <th>Open</th>\n",
       "      <th>Close</th>\n",
       "      <th>Volume</th>\n",
       "      <th>Adj Close</th>\n",
       "    </tr>\n",
       "  </thead>\n",
       "  <tbody>\n",
       "    <tr>\n",
       "      <th>272</th>\n",
       "      <td>2021-09-30</td>\n",
       "      <td>44092.601562</td>\n",
       "      <td>41444.582031</td>\n",
       "      <td>41551.269531</td>\n",
       "      <td>43790.894531</td>\n",
       "      <td>3.114168e+10</td>\n",
       "      <td>43790.894531</td>\n",
       "    </tr>\n",
       "    <tr>\n",
       "      <th>273</th>\n",
       "      <td>2021-10-01</td>\n",
       "      <td>48436.011719</td>\n",
       "      <td>43320.023438</td>\n",
       "      <td>43816.742188</td>\n",
       "      <td>48116.941406</td>\n",
       "      <td>4.285064e+10</td>\n",
       "      <td>48116.941406</td>\n",
       "    </tr>\n",
       "    <tr>\n",
       "      <th>274</th>\n",
       "      <td>2021-10-02</td>\n",
       "      <td>48282.062500</td>\n",
       "      <td>47465.496094</td>\n",
       "      <td>48137.468750</td>\n",
       "      <td>47711.488281</td>\n",
       "      <td>3.061435e+10</td>\n",
       "      <td>47711.488281</td>\n",
       "    </tr>\n",
       "    <tr>\n",
       "      <th>275</th>\n",
       "      <td>2021-10-03</td>\n",
       "      <td>NaN</td>\n",
       "      <td>NaN</td>\n",
       "      <td>NaN</td>\n",
       "      <td>49285.556508</td>\n",
       "      <td>NaN</td>\n",
       "      <td>NaN</td>\n",
       "    </tr>\n",
       "    <tr>\n",
       "      <th>276</th>\n",
       "      <td>2021-10-04</td>\n",
       "      <td>NaN</td>\n",
       "      <td>NaN</td>\n",
       "      <td>NaN</td>\n",
       "      <td>50734.888395</td>\n",
       "      <td>NaN</td>\n",
       "      <td>NaN</td>\n",
       "    </tr>\n",
       "    <tr>\n",
       "      <th>277</th>\n",
       "      <td>2021-10-05</td>\n",
       "      <td>NaN</td>\n",
       "      <td>NaN</td>\n",
       "      <td>NaN</td>\n",
       "      <td>50266.417991</td>\n",
       "      <td>NaN</td>\n",
       "      <td>NaN</td>\n",
       "    </tr>\n",
       "    <tr>\n",
       "      <th>278</th>\n",
       "      <td>2021-10-06</td>\n",
       "      <td>NaN</td>\n",
       "      <td>NaN</td>\n",
       "      <td>NaN</td>\n",
       "      <td>59689.598854</td>\n",
       "      <td>NaN</td>\n",
       "      <td>NaN</td>\n",
       "    </tr>\n",
       "    <tr>\n",
       "      <th>279</th>\n",
       "      <td>2021-10-07</td>\n",
       "      <td>NaN</td>\n",
       "      <td>NaN</td>\n",
       "      <td>NaN</td>\n",
       "      <td>60057.377747</td>\n",
       "      <td>NaN</td>\n",
       "      <td>NaN</td>\n",
       "    </tr>\n",
       "    <tr>\n",
       "      <th>280</th>\n",
       "      <td>2021-10-08</td>\n",
       "      <td>NaN</td>\n",
       "      <td>NaN</td>\n",
       "      <td>NaN</td>\n",
       "      <td>58037.955264</td>\n",
       "      <td>NaN</td>\n",
       "      <td>NaN</td>\n",
       "    </tr>\n",
       "    <tr>\n",
       "      <th>281</th>\n",
       "      <td>2021-10-09</td>\n",
       "      <td>NaN</td>\n",
       "      <td>NaN</td>\n",
       "      <td>NaN</td>\n",
       "      <td>61902.762905</td>\n",
       "      <td>NaN</td>\n",
       "      <td>NaN</td>\n",
       "    </tr>\n",
       "  </tbody>\n",
       "</table>\n",
       "</div>"
      ],
      "text/plain": [
       "          Date          High           Low          Open         Close  \\\n",
       "272 2021-09-30  44092.601562  41444.582031  41551.269531  43790.894531   \n",
       "273 2021-10-01  48436.011719  43320.023438  43816.742188  48116.941406   \n",
       "274 2021-10-02  48282.062500  47465.496094  48137.468750  47711.488281   \n",
       "275 2021-10-03           NaN           NaN           NaN  49285.556508   \n",
       "276 2021-10-04           NaN           NaN           NaN  50734.888395   \n",
       "277 2021-10-05           NaN           NaN           NaN  50266.417991   \n",
       "278 2021-10-06           NaN           NaN           NaN  59689.598854   \n",
       "279 2021-10-07           NaN           NaN           NaN  60057.377747   \n",
       "280 2021-10-08           NaN           NaN           NaN  58037.955264   \n",
       "281 2021-10-09           NaN           NaN           NaN  61902.762905   \n",
       "\n",
       "           Volume     Adj Close  \n",
       "272  3.114168e+10  43790.894531  \n",
       "273  4.285064e+10  48116.941406  \n",
       "274  3.061435e+10  47711.488281  \n",
       "275           NaN           NaN  \n",
       "276           NaN           NaN  \n",
       "277           NaN           NaN  \n",
       "278           NaN           NaN  \n",
       "279           NaN           NaN  \n",
       "280           NaN           NaN  \n",
       "281           NaN           NaN  "
      ]
     },
     "execution_count": 870,
     "metadata": {},
     "output_type": "execute_result"
    }
   ],
   "source": [
    "full_data_with_pred = pd.concat([data, predicted], ignore_index=True)\n",
    "full_data_with_pred.tail(10)"
   ]
  },
  {
   "cell_type": "markdown",
   "id": "98e85767-97d0-4d22-9082-990077efbbb8",
   "metadata": {},
   "source": [
    "#### Control Data to Cross Check"
   ]
  },
  {
   "cell_type": "code",
   "execution_count": 871,
   "id": "4969a490-fd79-45af-b6e4-152ee4d63dc1",
   "metadata": {},
   "outputs": [
    {
     "data": {
      "text/html": [
       "<div>\n",
       "<style scoped>\n",
       "    .dataframe tbody tr th:only-of-type {\n",
       "        vertical-align: middle;\n",
       "    }\n",
       "\n",
       "    .dataframe tbody tr th {\n",
       "        vertical-align: top;\n",
       "    }\n",
       "\n",
       "    .dataframe thead th {\n",
       "        text-align: right;\n",
       "    }\n",
       "</style>\n",
       "<table border=\"1\" class=\"dataframe\">\n",
       "  <thead>\n",
       "    <tr style=\"text-align: right;\">\n",
       "      <th></th>\n",
       "      <th>Date</th>\n",
       "      <th>High</th>\n",
       "      <th>Low</th>\n",
       "      <th>Open</th>\n",
       "      <th>Close</th>\n",
       "      <th>Volume</th>\n",
       "      <th>Adj Close</th>\n",
       "    </tr>\n",
       "  </thead>\n",
       "  <tbody>\n",
       "    <tr>\n",
       "      <th>272</th>\n",
       "      <td>2021-09-30</td>\n",
       "      <td>44092.601562</td>\n",
       "      <td>41444.582031</td>\n",
       "      <td>41551.269531</td>\n",
       "      <td>43790.894531</td>\n",
       "      <td>31141681925</td>\n",
       "      <td>43790.894531</td>\n",
       "    </tr>\n",
       "    <tr>\n",
       "      <th>273</th>\n",
       "      <td>2021-10-01</td>\n",
       "      <td>48436.011719</td>\n",
       "      <td>43320.023438</td>\n",
       "      <td>43816.742188</td>\n",
       "      <td>48116.941406</td>\n",
       "      <td>42850641582</td>\n",
       "      <td>48116.941406</td>\n",
       "    </tr>\n",
       "    <tr>\n",
       "      <th>274</th>\n",
       "      <td>2021-10-02</td>\n",
       "      <td>48282.062500</td>\n",
       "      <td>47465.496094</td>\n",
       "      <td>48137.468750</td>\n",
       "      <td>47711.488281</td>\n",
       "      <td>30614346492</td>\n",
       "      <td>47711.488281</td>\n",
       "    </tr>\n",
       "    <tr>\n",
       "      <th>275</th>\n",
       "      <td>2021-10-03</td>\n",
       "      <td>49130.691406</td>\n",
       "      <td>47157.289062</td>\n",
       "      <td>47680.027344</td>\n",
       "      <td>48199.953125</td>\n",
       "      <td>26638115879</td>\n",
       "      <td>48199.953125</td>\n",
       "    </tr>\n",
       "    <tr>\n",
       "      <th>276</th>\n",
       "      <td>2021-10-04</td>\n",
       "      <td>49456.777344</td>\n",
       "      <td>47045.003906</td>\n",
       "      <td>48208.906250</td>\n",
       "      <td>49112.902344</td>\n",
       "      <td>33383173002</td>\n",
       "      <td>49112.902344</td>\n",
       "    </tr>\n",
       "    <tr>\n",
       "      <th>277</th>\n",
       "      <td>2021-10-05</td>\n",
       "      <td>51839.984375</td>\n",
       "      <td>49072.839844</td>\n",
       "      <td>49174.960938</td>\n",
       "      <td>51514.812500</td>\n",
       "      <td>35873904236</td>\n",
       "      <td>51514.812500</td>\n",
       "    </tr>\n",
       "    <tr>\n",
       "      <th>278</th>\n",
       "      <td>2021-10-06</td>\n",
       "      <td>55568.464844</td>\n",
       "      <td>50488.191406</td>\n",
       "      <td>51486.664062</td>\n",
       "      <td>55361.449219</td>\n",
       "      <td>49034730168</td>\n",
       "      <td>55361.449219</td>\n",
       "    </tr>\n",
       "    <tr>\n",
       "      <th>279</th>\n",
       "      <td>2021-10-07</td>\n",
       "      <td>55338.625000</td>\n",
       "      <td>53525.468750</td>\n",
       "      <td>55338.625000</td>\n",
       "      <td>53805.984375</td>\n",
       "      <td>36807860413</td>\n",
       "      <td>53805.984375</td>\n",
       "    </tr>\n",
       "    <tr>\n",
       "      <th>280</th>\n",
       "      <td>2021-10-08</td>\n",
       "      <td>55922.980469</td>\n",
       "      <td>53688.054688</td>\n",
       "      <td>53802.144531</td>\n",
       "      <td>53967.847656</td>\n",
       "      <td>34800873924</td>\n",
       "      <td>53967.847656</td>\n",
       "    </tr>\n",
       "    <tr>\n",
       "      <th>281</th>\n",
       "      <td>2021-10-09</td>\n",
       "      <td>55397.945312</td>\n",
       "      <td>53735.144531</td>\n",
       "      <td>53929.781250</td>\n",
       "      <td>54968.222656</td>\n",
       "      <td>32491211414</td>\n",
       "      <td>54968.222656</td>\n",
       "    </tr>\n",
       "  </tbody>\n",
       "</table>\n",
       "</div>"
      ],
      "text/plain": [
       "          Date          High           Low          Open         Close  \\\n",
       "272 2021-09-30  44092.601562  41444.582031  41551.269531  43790.894531   \n",
       "273 2021-10-01  48436.011719  43320.023438  43816.742188  48116.941406   \n",
       "274 2021-10-02  48282.062500  47465.496094  48137.468750  47711.488281   \n",
       "275 2021-10-03  49130.691406  47157.289062  47680.027344  48199.953125   \n",
       "276 2021-10-04  49456.777344  47045.003906  48208.906250  49112.902344   \n",
       "277 2021-10-05  51839.984375  49072.839844  49174.960938  51514.812500   \n",
       "278 2021-10-06  55568.464844  50488.191406  51486.664062  55361.449219   \n",
       "279 2021-10-07  55338.625000  53525.468750  55338.625000  53805.984375   \n",
       "280 2021-10-08  55922.980469  53688.054688  53802.144531  53967.847656   \n",
       "281 2021-10-09  55397.945312  53735.144531  53929.781250  54968.222656   \n",
       "\n",
       "          Volume     Adj Close  \n",
       "272  31141681925  43790.894531  \n",
       "273  42850641582  48116.941406  \n",
       "274  30614346492  47711.488281  \n",
       "275  26638115879  48199.953125  \n",
       "276  33383173002  49112.902344  \n",
       "277  35873904236  51514.812500  \n",
       "278  49034730168  55361.449219  \n",
       "279  36807860413  53805.984375  \n",
       "280  34800873924  53967.847656  \n",
       "281  32491211414  54968.222656  "
      ]
     },
     "execution_count": 871,
     "metadata": {},
     "output_type": "execute_result"
    }
   ],
   "source": [
    "data2.tail(10)"
   ]
  },
  {
   "cell_type": "code",
   "execution_count": 872,
   "id": "77f1c8a2-48b7-44fb-afe2-8398695d892f",
   "metadata": {},
   "outputs": [
    {
     "data": {
      "text/html": [
       "<div>\n",
       "<style scoped>\n",
       "    .dataframe tbody tr th:only-of-type {\n",
       "        vertical-align: middle;\n",
       "    }\n",
       "\n",
       "    .dataframe tbody tr th {\n",
       "        vertical-align: top;\n",
       "    }\n",
       "\n",
       "    .dataframe thead th {\n",
       "        text-align: right;\n",
       "    }\n",
       "</style>\n",
       "<table border=\"1\" class=\"dataframe\">\n",
       "  <thead>\n",
       "    <tr style=\"text-align: right;\">\n",
       "      <th></th>\n",
       "      <th>Date</th>\n",
       "      <th>Close</th>\n",
       "    </tr>\n",
       "  </thead>\n",
       "  <tbody>\n",
       "    <tr>\n",
       "      <th>274</th>\n",
       "      <td>2021-10-02</td>\n",
       "      <td>47711.488281</td>\n",
       "    </tr>\n",
       "    <tr>\n",
       "      <th>275</th>\n",
       "      <td>2021-10-03</td>\n",
       "      <td>49285.556508</td>\n",
       "    </tr>\n",
       "    <tr>\n",
       "      <th>276</th>\n",
       "      <td>2021-10-04</td>\n",
       "      <td>50734.888395</td>\n",
       "    </tr>\n",
       "    <tr>\n",
       "      <th>277</th>\n",
       "      <td>2021-10-05</td>\n",
       "      <td>50266.417991</td>\n",
       "    </tr>\n",
       "    <tr>\n",
       "      <th>278</th>\n",
       "      <td>2021-10-06</td>\n",
       "      <td>59689.598854</td>\n",
       "    </tr>\n",
       "    <tr>\n",
       "      <th>279</th>\n",
       "      <td>2021-10-07</td>\n",
       "      <td>60057.377747</td>\n",
       "    </tr>\n",
       "    <tr>\n",
       "      <th>280</th>\n",
       "      <td>2021-10-08</td>\n",
       "      <td>58037.955264</td>\n",
       "    </tr>\n",
       "    <tr>\n",
       "      <th>281</th>\n",
       "      <td>2021-10-09</td>\n",
       "      <td>61902.762905</td>\n",
       "    </tr>\n",
       "  </tbody>\n",
       "</table>\n",
       "</div>"
      ],
      "text/plain": [
       "          Date         Close\n",
       "274 2021-10-02  47711.488281\n",
       "275 2021-10-03  49285.556508\n",
       "276 2021-10-04  50734.888395\n",
       "277 2021-10-05  50266.417991\n",
       "278 2021-10-06  59689.598854\n",
       "279 2021-10-07  60057.377747\n",
       "280 2021-10-08  58037.955264\n",
       "281 2021-10-09  61902.762905"
      ]
     },
     "execution_count": 872,
     "metadata": {},
     "output_type": "execute_result"
    }
   ],
   "source": [
    "predicted1 = full_data_with_pred.iloc[-n-1 : , [0,4]]\n",
    "predicted1"
   ]
  },
  {
   "cell_type": "markdown",
   "id": "9dbfebcb-3778-47db-ab55-caedfc6e64cc",
   "metadata": {},
   "source": [
    "## Visualization of the Prediction"
   ]
  },
  {
   "cell_type": "code",
   "execution_count": 873,
   "id": "714b0f7b-fd5b-4ffb-b1dc-453fad3d0463",
   "metadata": {},
   "outputs": [
    {
     "data": {
      "image/png": "[encoded data removed]",
      "text/plain": [
       "<Figure size 1760x1040 with 1 Axes>"
      ]
     },
     "metadata": {
      "needs_background": "light"
     },
     "output_type": "display_data"
    }
   ],
   "source": [
    "plt.figure(figsize=(22,13), dpi=80)\n",
    "\n",
    "plt.plot(data2['Date'], data2['Close'], '-y') # plotting t, b separately \n",
    "#plt.plot(full_data_with_pred['Date'], full_data_with_pred['Close'], '-k') # plotting t, a separately \n",
    "plt.plot(current_7_data['Date'], current_7_data['Close'], '-b')\n",
    "plt.plot(data_of_past_7['Date'], data_of_past_7['Close'], '-b')\n",
    "\n",
    "\n",
    "plt.plot(data_of_past_result['Date'], data_of_past_result['Close'], '-r')\n",
    "plt.plot(predicted1['Date'], predicted1['Close'], '-r')\n",
    "plt.title((f\"{asset} price from {start} to {end}.\"))\n",
    "plt.xlabel(\"Time (Day)\")\n",
    "plt.ylabel(\"Price (USD)\")\n",
    "plt.show()"
   ]
  },
  {
   "cell_type": "code",
   "execution_count": null,
   "id": "d51a97bd-2fde-4adb-8d77-5250c7c09151",
   "metadata": {},
   "outputs": [],
   "source": []
  },
  {
   "cell_type": "markdown",
   "id": "462eab9d-1089-4d07-9676-af818f45cde6",
   "metadata": {},
   "source": [
    "#### Making Candlestick Chart with Python"
   ]
  },
  {
   "cell_type": "code",
   "execution_count": 812,
   "id": "5aafd14d-4c4a-4ef4-b7ea-5bde9fd3aa2e",
   "metadata": {},
   "outputs": [
    {
     "data": {
      "text/plain": [
       "'Cand.html'"
      ]
     },
     "execution_count": 812,
     "metadata": {},
     "output_type": "execute_result"
    }
   ],
   "source": [
    "fig = go.Figure(data=[go.Candlestick(x=data['Date'], open=data['Open'],\n",
    "                                    high=data['High'],\n",
    "                                    low=data['Low'],\n",
    "                                    close=data['Adj Close'])])\n",
    "plot.offline.plot(fig, filename='Cand.html')"
   ]
  }
 ],
 "metadata": {
  "kernelspec": {
   "display_name": "Python 3",
   "language": "python",
   "name": "python3"
  },
  "language_info": {
   "codemirror_mode": {
    "name": "ipython",
    "version": 3
   },
   "file_extension": ".py",
   "mimetype": "text/x-python",
   "name": "python",
   "nbconvert_exporter": "python",
   "pygments_lexer": "ipython3",
   "version": "3.8.8"
  }
 },
 "nbformat": 4,
 "nbformat_minor": 5
}
